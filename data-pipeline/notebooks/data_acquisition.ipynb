{
 "cells": [
  {
   "cell_type": "code",
   "execution_count": 1,
   "id": "127f5b7b",
   "metadata": {},
   "outputs": [],
   "source": [
    "# Cell 1: Import libraries\n",
    "from google.cloud import bigquery\n",
    "from google_auth_oauthlib.flow import InstalledAppFlow\n",
    "import pandas as pd"
   ]
  },
  {
   "cell_type": "code",
   "execution_count": 2,
   "id": "180497c9",
   "metadata": {},
   "outputs": [
    {
     "name": "stdout",
     "output_type": "stream",
     "text": [
      "Please visit this URL to authorize this application: https://accounts.google.com/o/oauth2/auth?response_type=code&client_id=764086051850-6qr4p6gpi6hn506pt8ejuq83di341hur.apps.googleusercontent.com&redirect_uri=http%3A%2F%2Flocalhost%3A8080%2F&scope=https%3A%2F%2Fwww.googleapis.com%2Fauth%2Fbigquery&state=LzK3rp626rpSYg70LcAaTQxVaawM3D&prompt=consent&access_type=offline\n",
      "Connected!\n"
     ]
    }
   ],
   "source": [
    "# Cell 2: Authenticate\n",
    "flow = InstalledAppFlow.from_client_config(\n",
    "    {\n",
    "        \"installed\": {\n",
    "            \"client_id\": \"764086051850-6qr4p6gpi6hn506pt8ejuq83di341hur.apps.googleusercontent.com\",\n",
    "            \"client_secret\": \"d-FL95Q19q7MQmFpd7hHD0Ty\",\n",
    "            \"auth_uri\": \"https://accounts.google.com/o/oauth2/auth\",\n",
    "            \"token_uri\": \"https://oauth2.googleapis.com/token\",\n",
    "            \"redirect_uris\": [\"http://localhost\"]\n",
    "        }\n",
    "    },\n",
    "    scopes=[\"https://www.googleapis.com/auth/bigquery\"]\n",
    ")\n",
    "\n",
    "credentials = flow.run_local_server(port=8080, prompt='consent')\n",
    "client = bigquery.Client(project='lablens-476220', credentials=credentials)\n",
    "print(\"Connected!\")"
   ]
  },
  {
   "cell_type": "code",
   "execution_count": 3,
   "id": "f7486478",
   "metadata": {},
   "outputs": [
    {
     "name": "stderr",
     "output_type": "stream",
     "text": [
      "/Users/asadullahwaraich/Library/CloudStorage/OneDrive-HigherEducationCommission/Desktop/NEU Fall 2025/MLOps/Project/Data Pipeline/.venv/lib/python3.13/site-packages/google/cloud/bigquery/table.py:1994: UserWarning: BigQuery Storage module not found, fetch data with the REST endpoint instead.\n",
      "  warnings.warn(\n"
     ]
    },
    {
     "name": "stdout",
     "output_type": "stream",
     "text": [
      "Total admissions: 58976\n"
     ]
    }
   ],
   "source": [
    "# Cell 3: Test query\n",
    "test_query = \"\"\"\n",
    "SELECT COUNT(*) as count\n",
    "FROM `physionet-data.mimiciii_clinical.admissions`\n",
    "\"\"\"\n",
    "\n",
    "df = client.query(test_query).to_dataframe()\n",
    "print(f\"Total admissions: {df['count'][0]}\")"
   ]
  },
  {
   "cell_type": "code",
   "execution_count": 8,
   "id": "33f4e39b",
   "metadata": {},
   "outputs": [
    {
     "name": "stdout",
     "output_type": "stream",
     "text": [
      "Available tables:\n",
      "  - admissions\n",
      "  - callout\n",
      "  - caregivers\n",
      "  - chartevents\n",
      "  - cptevents\n",
      "  - d_cpt\n",
      "  - d_icd_diagnoses\n",
      "  - d_icd_procedures\n",
      "  - d_items\n",
      "  - d_labitems\n",
      "  - datetimeevents\n",
      "  - diagnoses_icd\n",
      "  - drgcodes\n",
      "  - icustays\n",
      "  - inputevents_cv\n",
      "  - inputevents_mv\n",
      "  - labevents\n",
      "  - microbiologyevents\n",
      "  - outputevents\n",
      "  - patients\n",
      "  - prescriptions\n",
      "  - procedureevents_mv\n",
      "  - procedures_icd\n",
      "  - services\n",
      "  - transfers\n"
     ]
    }
   ],
   "source": [
    "# Cell to check available tables\n",
    "# List all tables in the mimiciii_clinical dataset\n",
    "tables = client.list_tables('physionet-data.mimiciii_clinical')\n",
    "print(\"Available tables:\")\n",
    "for table in tables:\n",
    "    print(f\"  - {table.table_id}\")"
   ]
  },
  {
   "cell_type": "code",
   "execution_count": 9,
   "id": "a6335bd6",
   "metadata": {},
   "outputs": [
    {
     "name": "stdout",
     "output_type": "stream",
     "text": [
      "Dataset: mimiciii_clinical\n",
      "Dataset: mimiciii_derived\n",
      "Dataset: mimiciii_notes\n",
      "Dataset: mimiciii_notes_derived\n"
     ]
    }
   ],
   "source": [
    "# Check for other datasets that might contain notes\n",
    "datasets = list(client.list_datasets('physionet-data'))\n",
    "for dataset in datasets:\n",
    "    if 'mimic' in dataset.dataset_id.lower():\n",
    "        print(f\"Dataset: {dataset.dataset_id}\")\n",
    "        "
   ]
  },
  {
   "cell_type": "code",
   "execution_count": 10,
   "id": "a3ac6503",
   "metadata": {},
   "outputs": [
    {
     "name": "stdout",
     "output_type": "stream",
     "text": [
      "Running query on correct dataset...\n",
      "✓ Loaded 5000 discharge summaries with lab data\n",
      "✓ Columns: ['hadm_id', 'subject_id', 'cleaned_text', 'text_length', 'lab_summary', 'abnormal_count']\n",
      "✓ Average text length: 9558 characters\n"
     ]
    }
   ],
   "source": [
    "# Cell 4: Corrected query with the right dataset\n",
    "query = r\"\"\"\n",
    "WITH discharge AS (\n",
    "    SELECT \n",
    "        hadm_id,\n",
    "        subject_id,\n",
    "        REGEXP_REPLACE(text, r'\\[\\*\\*[^\\]]*\\*\\*\\]', '') AS cleaned_text,\n",
    "        LENGTH(text) as text_length\n",
    "    FROM `physionet-data.mimiciii_notes.noteevents`\n",
    "    WHERE category = 'Discharge summary'\n",
    "    LIMIT 5000\n",
    "),\n",
    "labs AS (\n",
    "    SELECT \n",
    "        le.hadm_id,\n",
    "        STRING_AGG(\n",
    "            CONCAT(d.label, ': ', CAST(le.value AS STRING), ' ', le.valueuom,\n",
    "            CASE WHEN le.flag = 'abnormal' THEN ' (!)' ELSE '' END), '; '\n",
    "            LIMIT 20\n",
    "        ) AS lab_summary,\n",
    "        SUM(CASE WHEN le.flag = 'abnormal' THEN 1 ELSE 0 END) AS abnormal_count\n",
    "    FROM `physionet-data.mimiciii_clinical.labevents` le\n",
    "    JOIN `physionet-data.mimiciii_clinical.d_labitems` d ON le.itemid = d.itemid\n",
    "    GROUP BY le.hadm_id\n",
    ")\n",
    "SELECT \n",
    "    d.*,\n",
    "    l.lab_summary,\n",
    "    l.abnormal_count\n",
    "FROM discharge d\n",
    "LEFT JOIN labs l USING(hadm_id)\n",
    "\"\"\"\n",
    "\n",
    "print(\"Running query on correct dataset...\")\n",
    "df = client.query(query).to_dataframe()\n",
    "print(f\"✓ Loaded {len(df)} discharge summaries with lab data\")\n",
    "print(f\"✓ Columns: {df.columns.tolist()}\")\n",
    "print(f\"✓ Average text length: {df['text_length'].mean():.0f} characters\")"
   ]
  },
  {
   "cell_type": "code",
   "execution_count": 11,
   "id": "d4972d22",
   "metadata": {},
   "outputs": [
    {
     "name": "stdout",
     "output_type": "stream",
     "text": [
      "✓ Data saved to data/raw/mimic_discharge_labs.csv\n",
      "✓ File size: 43.97 MB\n"
     ]
    }
   ],
   "source": [
    "# Save the data\n",
    "import os\n",
    "\n",
    "os.makedirs('data/raw', exist_ok=True)\n",
    "df.to_csv('data/raw/mimic_discharge_labs.csv', index=False)\n",
    "print(f\"✓ Data saved to data/raw/mimic_discharge_labs.csv\")\n",
    "print(f\"✓ File size: {os.path.getsize('data/raw/mimic_discharge_labs.csv') / 1024 / 1024:.2f} MB\")"
   ]
  },
  {
   "cell_type": "code",
   "execution_count": 12,
   "id": "ee29eddd",
   "metadata": {},
   "outputs": [
    {
     "name": "stdout",
     "output_type": "stream",
     "text": [
      "Running comprehensive query with demographics...\n"
     ]
    },
    {
     "name": "stderr",
     "output_type": "stream",
     "text": [
      "/Users/asadullahwaraich/Library/CloudStorage/OneDrive-HigherEducationCommission/Desktop/NEU Fall 2025/MLOps/Project/Data Pipeline/.venv/lib/python3.13/site-packages/google/cloud/bigquery/table.py:1994: UserWarning: BigQuery Storage module not found, fetch data with the REST endpoint instead.\n",
      "  warnings.warn(\n"
     ]
    },
    {
     "name": "stdout",
     "output_type": "stream",
     "text": [
      "✓ Loaded 9996 records with full demographics\n",
      "✓ Columns: ['hadm_id', 'subject_id', 'cleaned_text', 'text_length', 'gender', 'ethnicity', 'age_at_admission', 'insurance', 'language', 'admission_type', 'lab_summary', 'total_labs', 'abnormal_count', 'diagnosis_count', 'top_diagnoses']\n",
      "✓ Saved complete dataset for bias detection\n"
     ]
    }
   ],
   "source": [
    "# Enhanced query with demographics for bias detection\n",
    "query = r\"\"\"\n",
    "WITH discharge AS (\n",
    "    SELECT \n",
    "        n.hadm_id,\n",
    "        n.subject_id,\n",
    "        REGEXP_REPLACE(n.text, r'\\[\\*\\*[^\\]]*\\*\\*\\]', '') AS cleaned_text,\n",
    "        LENGTH(n.text) as text_length\n",
    "    FROM `physionet-data.mimiciii_notes.noteevents` n\n",
    "    WHERE n.category = 'Discharge summary'\n",
    "    LIMIT 5000\n",
    "),\n",
    "demographics AS (\n",
    "    SELECT \n",
    "        p.subject_id,\n",
    "        p.gender,\n",
    "        a.ethnicity,\n",
    "        a.insurance,\n",
    "        a.language,\n",
    "        a.marital_status,\n",
    "        a.admission_type,\n",
    "        DATETIME_DIFF(a.admittime, p.dob, YEAR) as age_at_admission\n",
    "    FROM `physionet-data.mimiciii_clinical.patients` p\n",
    "    JOIN `physionet-data.mimiciii_clinical.admissions` a \n",
    "        ON p.subject_id = a.subject_id\n",
    "),\n",
    "labs AS (\n",
    "    SELECT \n",
    "        le.hadm_id,\n",
    "        STRING_AGG(\n",
    "            CONCAT(d.label, ': ', CAST(le.value AS STRING), ' ', le.valueuom,\n",
    "            CASE WHEN le.flag = 'abnormal' THEN ' (!)' ELSE '' END), '; '\n",
    "            LIMIT 20\n",
    "        ) AS lab_summary,\n",
    "        COUNT(*) as total_labs,\n",
    "        SUM(CASE WHEN le.flag = 'abnormal' THEN 1 ELSE 0 END) AS abnormal_count\n",
    "    FROM `physionet-data.mimiciii_clinical.labevents` le\n",
    "    JOIN `physionet-data.mimiciii_clinical.d_labitems` d ON le.itemid = d.itemid\n",
    "    GROUP BY le.hadm_id\n",
    "),\n",
    "diagnoses AS (\n",
    "    SELECT \n",
    "        hadm_id,\n",
    "        COUNT(*) as diagnosis_count,\n",
    "        STRING_AGG(icd9_code, ', ' LIMIT 10) as top_diagnoses\n",
    "    FROM `physionet-data.mimiciii_clinical.diagnoses_icd`\n",
    "    GROUP BY hadm_id\n",
    ")\n",
    "SELECT \n",
    "    d.*,\n",
    "    dem.gender,\n",
    "    dem.ethnicity,\n",
    "    dem.age_at_admission,\n",
    "    dem.insurance,\n",
    "    dem.language,\n",
    "    dem.admission_type,\n",
    "    l.lab_summary,\n",
    "    l.total_labs,\n",
    "    l.abnormal_count,\n",
    "    diag.diagnosis_count,\n",
    "    diag.top_diagnoses\n",
    "FROM discharge d\n",
    "LEFT JOIN demographics dem ON d.subject_id = dem.subject_id\n",
    "LEFT JOIN labs l ON d.hadm_id = l.hadm_id\n",
    "LEFT JOIN diagnoses diag ON d.hadm_id = diag.hadm_id\n",
    "\"\"\"\n",
    "\n",
    "print(\"Running comprehensive query with demographics...\")\n",
    "df_complete = client.query(query).to_dataframe()\n",
    "print(f\"✓ Loaded {len(df_complete)} records with full demographics\")\n",
    "print(f\"✓ Columns: {df_complete.columns.tolist()}\")\n",
    "\n",
    "# Save complete dataset\n",
    "df_complete.to_csv('data/raw/mimic_complete_with_demographics.csv', index=False)\n",
    "print(\"✓ Saved complete dataset for bias detection\")"
   ]
  }
 ],
 "metadata": {
  "kernelspec": {
   "display_name": ".venv",
   "language": "python",
   "name": "python3"
  },
  "language_info": {
   "codemirror_mode": {
    "name": "ipython",
    "version": 3
   },
   "file_extension": ".py",
   "mimetype": "text/x-python",
   "name": "python",
   "nbconvert_exporter": "python",
   "pygments_lexer": "ipython3",
   "version": "3.13.2"
  }
 },
 "nbformat": 4,
 "nbformat_minor": 5
}
