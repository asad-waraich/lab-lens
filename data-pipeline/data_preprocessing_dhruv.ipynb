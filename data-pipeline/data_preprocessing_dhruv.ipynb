{
 "cells": [
  {
   "cell_type": "markdown",
   "id": "a78ffa94",
   "metadata": {},
   "source": [
    "# Medical Report Data Preprocessing\n",
    "\n",
    "This notebook performs comprehensive data preprocessing on medical report data for the LabLens project. The preprocessing steps include data loading, cleaning, and preparation for NLP models that will be used for medical report simplification and translation."
   ]
  },
  {
   "cell_type": "markdown",
   "id": "b0e570d9",
   "metadata": {},
   "source": [
    "## 1. Loading Required Libraries and Data Files\n",
    "\n",
    "First, we'll import all necessary libraries and load our CSV files."
   ]
  },
  {
   "cell_type": "code",
   "execution_count": null,
   "id": "a89ebb3d",
   "metadata": {},
   "outputs": [],
   "source": [
    "# Import required libraries\n",
    "import pandas as pd\n",
    "import numpy as np\n",
    "from sklearn.preprocessing import StandardScaler, LabelEncoder\n",
    "import re\n",
    "from datetime import datetime\n",
    "import warnings\n",
    "warnings.filterwarnings('ignore')\n",
    "\n",
    "# Read the CSV files\n",
    "discharge_labs = pd.read_csv('mimic_discharge_labs.csv')\n",
    "demographics = pd.read_csv('mimic_complete_with_demographics.csv')\n",
    "\n",
    "# Display basic information about the datasets\n",
    "print(\"Discharge Labs Dataset Info:\")\n",
    "print(discharge_labs.info())\n",
    "print(\"\\nFirst few rows of Discharge Labs:\")\n",
    "print(discharge_labs.head())\n",
    "\n",
    "print(\"\\nDemographics Dataset Info:\")\n",
    "print(demographics.info())\n",
    "print(\"\\nFirst few rows of Demographics:\")\n",
    "print(demographics.head())"
   ]
  },
  {
   "cell_type": "markdown",
   "id": "719f5c48",
   "metadata": {},
   "source": [
    "## 2. Data Exploration and Missing Values Analysis\n",
    "\n",
    "Let's analyze the data quality and identify missing values in both datasets."
   ]
  },
  {
   "cell_type": "code",
   "execution_count": null,
   "id": "51d1d8e7",
   "metadata": {},
   "outputs": [],
   "source": [
    "# Check for missing values in both datasets\n",
    "print(\"Missing values in Discharge Labs Dataset:\")\n",
    "print(discharge_labs.isnull().sum())\n",
    "print(\"\\nMissing values in Demographics Dataset:\")\n",
    "print(demographics.isnull().sum())\n",
    "\n",
    "# Get basic statistics for numerical columns\n",
    "print(\"\\nBasic statistics for Discharge Labs Dataset:\")\n",
    "print(discharge_labs.describe())\n",
    "print(\"\\nBasic statistics for Demographics Dataset:\")\n",
    "print(demographics.describe())\n",
    "\n",
    "# Check unique values in categorical columns\n",
    "for column in discharge_labs.select_dtypes(include=['object']).columns:\n",
    "    print(f\"\\nUnique values in {column} (Discharge Labs):\")\n",
    "    print(discharge_labs[column].value_counts().head())\n",
    "\n",
    "for column in demographics.select_dtypes(include=['object']).columns:\n",
    "    print(f\"\\nUnique values in {column} (Demographics):\")\n",
    "    print(demographics[column].value_counts().head())"
   ]
  },
  {
   "cell_type": "markdown",
   "id": "50391fa4",
   "metadata": {},
   "source": [
    "## 3. Text Data Preprocessing\n",
    "\n",
    "Now we'll clean the text data by:\n",
    "1. Removing special characters\n",
    "2. Standardizing formatting\n",
    "3. Extracting key medical entities\n",
    "4. Creating structured features from unstructured text"
   ]
  },
  {
   "cell_type": "code",
   "execution_count": null,
   "id": "c43b65a1",
   "metadata": {},
   "outputs": [],
   "source": [
    "# Function to clean and preprocess text\n",
    "def clean_text(text):\n",
    "    if pd.isna(text):\n",
    "        return \"\"\n",
    "    \n",
    "    # Convert to string if not already\n",
    "    text = str(text)\n",
    "    \n",
    "    # Remove extra whitespace\n",
    "    text = re.sub(r'\\s+', ' ', text)\n",
    "    \n",
    "    # Remove special characters but keep necessary punctuation\n",
    "    text = re.sub(r'[^a-zA-Z0-9\\s\\.,:\\-/]', '', text)\n",
    "    \n",
    "    # Standardize formatting\n",
    "    text = text.strip()\n",
    "    \n",
    "    return text\n",
    "\n",
    "# Apply text cleaning to the cleaned_text column in discharge_labs\n",
    "discharge_labs['cleaned_text'] = discharge_labs['cleaned_text'].apply(clean_text)\n",
    "\n",
    "# Function to extract lab values\n",
    "def extract_lab_values(text):\n",
    "    # Pattern to match common lab value formats (e.g., \"WBC-9.1\", \"HGB-12.3\")\n",
    "    lab_pattern = r'([A-Za-z]+)-(\\d+\\.?\\d*)'\n",
    "    matches = re.findall(lab_pattern, text)\n",
    "    \n",
    "    # Convert matches to dictionary\n",
    "    lab_values = {lab: float(value) for lab, value in matches}\n",
    "    return lab_values\n",
    "\n",
    "# Extract lab values and create new columns\n",
    "discharge_labs['lab_values'] = discharge_labs['cleaned_text'].apply(extract_lab_values)\n",
    "\n",
    "# Display sample of processed text\n",
    "print(\"Sample of processed text:\")\n",
    "print(discharge_labs['cleaned_text'].head())\n",
    "print(\"\\nSample of extracted lab values:\")\n",
    "print(discharge_labs['lab_values'].head())"
   ]
  },
  {
   "cell_type": "markdown",
   "id": "0736d46e",
   "metadata": {},
   "source": [
    "## 4. Feature Engineering and Data Transformation\n",
    "\n",
    "We'll now:\n",
    "1. Create new features from the extracted lab values\n",
    "2. Normalize numerical values\n",
    "3. Encode categorical variables\n",
    "4. Prepare the data for model input"
   ]
  },
  {
   "cell_type": "code",
   "execution_count": null,
   "id": "f1d21c68",
   "metadata": {},
   "outputs": [],
   "source": [
    "# Create features from lab values\n",
    "common_labs = ['WBC', 'HGB', 'HCT', 'PLT', 'NA', 'K', 'CL', 'CO2', 'BUN', 'CREAT', 'GLUCOSE']\n",
    "\n",
    "# Initialize new columns with NaN\n",
    "for lab in common_labs:\n",
    "    discharge_labs[f'lab_{lab}'] = np.nan\n",
    "\n",
    "# Fill in lab values\n",
    "for idx, row in discharge_labs.iterrows():\n",
    "    lab_dict = row['lab_values']\n",
    "    for lab in common_labs:\n",
    "        if lab in lab_dict:\n",
    "            discharge_labs.at[idx, f'lab_{lab}'] = lab_dict[lab]\n",
    "\n",
    "# Normalize numerical features\n",
    "scaler = StandardScaler()\n",
    "lab_columns = [f'lab_{lab}' for lab in common_labs]\n",
    "discharge_labs[lab_columns] = scaler.fit_transform(discharge_labs[lab_columns].fillna(0))\n",
    "\n",
    "# Create text length features\n",
    "discharge_labs['text_word_count'] = discharge_labs['cleaned_text'].str.split().str.len()\n",
    "discharge_labs['text_sentence_count'] = discharge_labs['cleaned_text'].str.count(r'[.!?]+')\n",
    "\n",
    "# Display the transformed data\n",
    "print(\"Sample of transformed data:\")\n",
    "print(discharge_labs[lab_columns + ['text_word_count', 'text_sentence_count']].head())"
   ]
  },
  {
   "cell_type": "markdown",
   "id": "ca6ac3c1",
   "metadata": {},
   "source": [
    "## 5. Merging Datasets and Final Preparation\n",
    "\n",
    "Now we'll merge the processed discharge labs data with demographics and prepare the final dataset for the model."
   ]
  },
  {
   "cell_type": "code",
   "execution_count": null,
   "id": "06ea58c9",
   "metadata": {},
   "outputs": [],
   "source": [
    "# Merge datasets on subject_id and hadm_id\n",
    "final_dataset = pd.merge(discharge_labs, demographics, \n",
    "                        on=['subject_id', 'hadm_id'], \n",
    "                        how='inner')\n",
    "\n",
    "# Create age groups\n",
    "final_dataset['age_group'] = pd.cut(final_dataset['age'], \n",
    "                                  bins=[0, 18, 30, 50, 70, 100],\n",
    "                                  labels=['0-18', '19-30', '31-50', '51-70', '70+'])\n",
    "\n",
    "# Prepare final features for the model\n",
    "model_features = lab_columns + ['text_word_count', 'text_sentence_count', 'age_group', 'gender']\n",
    "\n",
    "# Create final preprocessed dataset\n",
    "final_preprocessed = final_dataset[model_features + ['cleaned_text', 'abnormal_count']]\n",
    "\n",
    "# Save the preprocessed data\n",
    "final_preprocessed.to_csv('preprocessed_medical_data.csv', index=False)\n",
    "\n",
    "print(\"Final dataset shape:\", final_preprocessed.shape)\n",
    "print(\"\\nSample of final preprocessed data:\")\n",
    "print(final_preprocessed.head())\n",
    "\n",
    "# Display summary statistics of the final dataset\n",
    "print(\"\\nSummary statistics of final dataset:\")\n",
    "print(final_preprocessed.describe())"
   ]
  },
  {
   "cell_type": "markdown",
   "id": "0174a71c",
   "metadata": {},
   "source": [
    "## Summary of Preprocessing Steps\n",
    "\n",
    "The preprocessing pipeline has:\n",
    "1. Loaded and cleaned the discharge labs and demographics data\n",
    "2. Extracted and normalized lab values\n",
    "3. Created additional features from text data\n",
    "4. Merged datasets and created age groups\n",
    "5. Prepared final dataset for model input\n",
    "\n",
    "The preprocessed data has been saved to 'preprocessed_medical_data.csv' and is ready for the next phase of model development."
   ]
  }
 ],
 "metadata": {
  "language_info": {
   "name": "python"
  }
 },
 "nbformat": 4,
 "nbformat_minor": 5
}
